{
  "nbformat": 4,
  "nbformat_minor": 0,
  "metadata": {
    "colab": {
      "provenance": []
    },
    "kernelspec": {
      "name": "python3",
      "display_name": "Python 3"
    },
    "language_info": {
      "name": "python"
    }
  },
  "cells": [
    {
      "cell_type": "code",
      "execution_count": 4,
      "metadata": {
        "id": "VKzMFY2Kc7Nz"
      },
      "outputs": [],
      "source": [
        "# for retrieving the tgz file\n",
        "import urllib.request"
      ]
    },
    {
      "cell_type": "code",
      "source": [
        "# retrieving\n",
        "opener = urllib.request.URLopener()\n",
        "opener.addheader('User-Agent', 'whatever')\n",
        "filename, headers = opener.retrieve(\"https://public.podcastindex.org/podcastindex_feeds.db.tgz\", \"feeds.db.tgz\")"
      ],
      "metadata": {
        "id": "GmpgnejSdT2T"
      },
      "execution_count": 5,
      "outputs": []
    },
    {
      "cell_type": "code",
      "source": [
        "# for extracting the tgz file\n",
        "import tarfile\n",
        "import os\n",
        "import sys"
      ],
      "metadata": {
        "id": "0o7OEmxLe0qI"
      },
      "execution_count": 20,
      "outputs": []
    },
    {
      "cell_type": "code",
      "source": [
        "# extracting\n",
        "extract_path = \"amplify_files/feeds/\"\n",
        "tar = tarfile.open(\"./feeds.db.tgz\", 'r')\n",
        "for item in tar:\n",
        "    tar.extract(item, extract_path)"
      ],
      "metadata": {
        "id": "4O-St5MmfJDy"
      },
      "execution_count": 8,
      "outputs": []
    },
    {
      "cell_type": "code",
      "source": [
        "# miscellenous checks\n",
        "os.path.getsize(\"amplify_files/feeds/podcastindex_feeds.db\")"
      ],
      "metadata": {
        "colab": {
          "base_uri": "https://localhost:8080/"
        },
        "id": "2IzSRlxBgO2x",
        "outputId": "1a8be96e-c433-4a77-c5b5-69d3c3d9ca4a"
      },
      "execution_count": 9,
      "outputs": [
        {
          "output_type": "execute_result",
          "data": {
            "text/plain": [
              "4356464640"
            ]
          },
          "metadata": {},
          "execution_count": 9
        }
      ]
    },
    {
      "cell_type": "code",
      "source": [
        "# for using the db we downloaded\n",
        "import sqlite3"
      ],
      "metadata": {
        "id": "ztZ2jL75grqV"
      },
      "execution_count": 2,
      "outputs": []
    },
    {
      "cell_type": "code",
      "source": [
        "db = sqlite3.connect(\"amplify_files/feeds/podcastindex_feeds.db\")\n",
        "cursor = db.cursor()\n",
        "\n",
        "cmd = \"SELECT url FROM podcasts WHERE dead is not 1\"\n",
        "\n",
        "cursor.execute(cmd)\n",
        "rows = cursor.fetchall()"
      ],
      "metadata": {
        "id": "wfts3YpahCLY"
      },
      "execution_count": null,
      "outputs": []
    },
    {
      "cell_type": "code",
      "source": [
        "# write the urls to a file\n",
        "file = open(\"amplify_files/feeds/feeds.txt\", \"x\")\n",
        "\n",
        "row_text = str(rows).replace(\"[('\", \"\")\n",
        "row_text = row_text.replace(\"',), ('\", \"\\n\")\n",
        "#print(row_text)\n",
        "file.write(row_text)\n",
        "file.close()"
      ],
      "metadata": {
        "id": "ZXJULRKWk4y7"
      },
      "execution_count": 31,
      "outputs": []
    },
    {
      "cell_type": "code",
      "source": [
        "os.path.getsize(\"amplify_files/feeds/feeds.txt\")"
      ],
      "metadata": {
        "colab": {
          "base_uri": "https://localhost:8080/"
        },
        "id": "V71PluHRllWP",
        "outputId": "7c0a99d6-d892-489d-8b9f-b30e33709a5c"
      },
      "execution_count": 21,
      "outputs": [
        {
          "output_type": "execute_result",
          "data": {
            "text/plain": [
              "229230364"
            ]
          },
          "metadata": {},
          "execution_count": 21
        }
      ]
    },
    {
      "cell_type": "code",
      "source": [
        "file = open(\"amplify_files/feeds/feeds.txt\", 'r')\n",
        "print(file.read()[:1000])"
      ],
      "metadata": {
        "colab": {
          "base_uri": "https://localhost:8080/"
        },
        "id": "LXjU85Nnl_vX",
        "outputId": "8ca01601-9b3d-4f7a-c0df-49396e763145"
      },
      "execution_count": 32,
      "outputs": [
        {
          "output_type": "stream",
          "name": "stdout",
          "text": [
            "https://markalanwilliams.libsyn.com/rss\n",
            "https://anchor.fm/s/19ccb320/podcast/rss\n",
            "https://feeds.soundcloud.com/users/soundcloud:users:150466516/sounds.rss\n",
            "https://audioboom.com/channels/4597972.rss\n",
            "https://anchor.fm/s/212c47d4/podcast/rss\n",
            "http://feeds.feedburner.com/DirtBikePodcast\n",
            "https://anchor.fm/s/28f184c/podcast/rss\n",
            "https://galaktacus.libsyn.com/rss\n",
            "https://sportsfromherperspective.podomatic.com/rss2.xml\n",
            "https://feeds.soundcloud.com/users/soundcloud:users:37022259/sounds.rss\n",
            "https://feeds.soundcloud.com/users/soundcloud:users:151205561/sounds.rss\n",
            "https://nocturniarecords.podomatic.com/rss2.xml\n",
            "https://feeds.soundcloud.com/users/soundcloud:users:142613909/sounds.rss\n",
            "https://noextrawords.libsyn.com/rss\n",
            "http://feeds.feedburner.com/TheSpysonHour\n",
            "http://rss.lizhi.fm/rss/1312446.xml\n",
            "https://feeds.soundcloud.com/users/soundcloud:users:155565658/sounds.rss\n",
            "https://talkingpicturespodcast.podbean.com/feed.xml\n",
            "https://hillaryandjason.podomatic.com/rss2.xml\n",
            "https://feeds.soundcloud.com/users/s\n"
          ]
        }
      ]
    }
  ]
}